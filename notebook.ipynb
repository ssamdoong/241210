{
 "cells": [
  {
   "cell_type": "code",
   "execution_count": 32,
   "metadata": {},
   "outputs": [],
   "source": [
    "from langchain.chat_models import ChatOpenAI\n",
    "from langchain.prompts import ChatPromptTemplate\n",
    "from langchain.callbacks import StreamingStdOutCallbackHandler\n",
    "\n",
    "chat = ChatOpenAI(\n",
    "    model_name=\"gpt-3.5-turbo\",\n",
    "    temperature=0.1,\n",
    "    streaming=True,\n",
    "    callbacks=[StreamingStdOutCallbackHandler()])\n",
    "\n"
   ]
  },
  {
   "cell_type": "code",
   "execution_count": 33,
   "metadata": {},
   "outputs": [],
   "source": [
    "poem_prompt = ChatPromptTemplate.from_messages([\n",
    "    (\"system\", \"You are a world-class Hakius writer. You writes Hakius about programming languages\"),\n",
    "    (\"human\", \"Please write Hakius for me about following programming language : {PL}\"),\n",
    "])\n",
    "\n",
    "poem_chain = poem_prompt | chat"
   ]
  },
  {
   "cell_type": "code",
   "execution_count": null,
   "metadata": {},
   "outputs": [
    {
     "name": "stdout",
     "output_type": "stream",
     "text": [
      "Python, elegant,\n",
      "Indentation is key,\n",
      "Code flows like a stream.해지우는 세 줄로 이루어진 일본 시가로, 각 줄은 5, 7, 5 모음으로 이루어져 있습니다. 이 시는 주로 자연의 아름다움, 일상 생활, 사상 등을 표현하는 데 사용됩니다. 이 특정한 해지우는 '파이썬, 우아한,' '들여쓰기가 중요하다,' '코드는 시냇물처럼 흐른다'라는 내용을 담고 있습니다. 해지우는 간결하면서도 깊은 의미를 담고 있어 한 줄씩 천천히 읽어보면서 그 미묘한 느낌을 음미해보는 것이 좋습니다."
     ]
    },
    {
     "data": {
      "text/plain": [
       "AIMessageChunk(content=\"해지우는 세 줄로 이루어진 일본 시가로, 각 줄은 5, 7, 5 모음으로 이루어져 있습니다. 이 시는 주로 자연의 아름다움, 일상 생활, 사상 등을 표현하는 데 사용됩니다. 이 특정한 해지우는 '파이썬, 우아한,' '들여쓰기가 중요하다,' '코드는 시냇물처럼 흐른다'라는 내용을 담고 있습니다. 해지우는 간결하면서도 깊은 의미를 담고 있어 한 줄씩 천천히 읽어보면서 그 미묘한 느낌을 음미해보는 것이 좋습니다.\")"
      ]
     },
     "execution_count": 34,
     "metadata": {},
     "output_type": "execute_result"
    }
   ],
   "source": [
    "poem_explain_prompt = ChatPromptTemplate.from_messages([\n",
    "    (\"system\", \"You are very good at explaining Hakius. You look at the hakius written in English and explain it in detail to Koreans. The explanation must be in Korean.You explain the theme of this poem, and you don't include unclear information in the explanation.\"),\n",
    "    (\"human\", \"{hakius}\"),\n",
    "])\n",
    "\n",
    "poem_explain_chain = poem_explain_prompt | chat\n",
    "\n",
    "final_chain = {\"hakius\" : poem_chain} | poem_explain_chain\n",
    "\n",
    "final_chain.invoke({\n",
    "    \"PL\":\"Python\"\n",
    "})"
   ]
  },
  {
   "cell_type": "code",
   "execution_count": 28,
   "metadata": {},
   "outputs": [
    {
     "data": {
      "text/plain": [
       "['Pikachu', 'Charmander', 'Bulbasaur', 'Squirtle', 'Jigglypuff']"
      ]
     },
     "execution_count": 28,
     "metadata": {},
     "output_type": "execute_result"
    }
   ],
   "source": [
    "chain= template | chat | CommaOutputParser()\n",
    "\n",
    "chain.invoke({\n",
    "    \"max_items\" :5,\n",
    "    \"question\": \"What are the pokemons?\"\n",
    "})"
   ]
  },
  {
   "cell_type": "code",
   "execution_count": null,
   "metadata": {},
   "outputs": [],
   "source": []
  }
 ],
 "metadata": {
  "kernelspec": {
   "display_name": "env",
   "language": "python",
   "name": "python3"
  },
  "language_info": {
   "codemirror_mode": {
    "name": "ipython",
    "version": 3
   },
   "file_extension": ".py",
   "mimetype": "text/x-python",
   "name": "python",
   "nbconvert_exporter": "python",
   "pygments_lexer": "ipython3",
   "version": "3.11.6"
  }
 },
 "nbformat": 4,
 "nbformat_minor": 2
}
