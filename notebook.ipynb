{
 "cells": [
  {
   "cell_type": "code",
   "execution_count": 2,
   "metadata": {},
   "outputs": [],
   "source": [
    "from langchain.chat_models import ChatOpenAI\n",
    "from langchain.prompts import ChatPromptTemplate\n",
    "from langchain.callbacks import StreamingStdOutCallbackHandler\n",
    "\n",
    "chat = ChatOpenAI(\n",
    "    model_name=\"gpt-3.5-turbo\",\n",
    "    temperature=0.1,\n",
    "    streaming=True,\n",
    "    callbacks=[StreamingStdOutCallbackHandler()])\n",
    "\n"
   ]
  },
  {
   "cell_type": "code",
   "execution_count": 3,
   "metadata": {},
   "outputs": [],
   "source": [
    "poem_prompt = ChatPromptTemplate.from_messages([\n",
    "    (\"system\", \"You are a world-class Hakius writer. You writes Hakius about programming languages\"),\n",
    "    (\"human\", \"Please write Hakius for me about following programming language : {PL}\"),\n",
    "])\n",
    "\n",
    "poem_chain = poem_prompt | chat"
   ]
  },
  {
   "cell_type": "code",
   "execution_count": 4,
   "metadata": {},
   "outputs": [
    {
     "name": "stdout",
     "output_type": "stream",
     "text": [
      "Python code flows smooth,\n",
      "Indentation is the key,\n",
      "Guiding us with ease.해당 하이쿠는 파이썬 코딩에 대한 내용을 담고 있습니다. \"Python code flows smooth\"라는 구절은 '파이썬 코드는 부드럽게 흐른다'는 뜻으로, 파이썬 프로그래밍 언어가 코드를 작성하고 이해하기 쉽도록 설계되어 있다는 것을 나타냅니다. \"Indentation is the key\"는 '들여쓰기가 핵심이다'라는 뜻으로, 파이썬에서는 코드 블록을 구분하기 위해 들여쓰기를 사용하며, 이를 올바르게 활용하는 것이 중요하다는 것을 강조합니다. 마지막으로 \"Guiding us with ease\"는 '쉽게 안내해 주는'이라는 뜻으로, 파이썬이 사용자를 쉽게 이끌어주고 도와준다는 것을 나타냅니다. 이 하이쿠는 파이썬 코딩의 특징과 장점을 간결하게 표현하고 있습니다."
     ]
    },
    {
     "data": {
      "text/plain": [
       "AIMessageChunk(content='해당 하이쿠는 파이썬 코딩에 대한 내용을 담고 있습니다. \"Python code flows smooth\"라는 구절은 \\'파이썬 코드는 부드럽게 흐른다\\'는 뜻으로, 파이썬 프로그래밍 언어가 코드를 작성하고 이해하기 쉽도록 설계되어 있다는 것을 나타냅니다. \"Indentation is the key\"는 \\'들여쓰기가 핵심이다\\'라는 뜻으로, 파이썬에서는 코드 블록을 구분하기 위해 들여쓰기를 사용하며, 이를 올바르게 활용하는 것이 중요하다는 것을 강조합니다. 마지막으로 \"Guiding us with ease\"는 \\'쉽게 안내해 주는\\'이라는 뜻으로, 파이썬이 사용자를 쉽게 이끌어주고 도와준다는 것을 나타냅니다. 이 하이쿠는 파이썬 코딩의 특징과 장점을 간결하게 표현하고 있습니다.')"
      ]
     },
     "execution_count": 4,
     "metadata": {},
     "output_type": "execute_result"
    }
   ],
   "source": [
    "poem_explain_prompt = ChatPromptTemplate.from_messages([\n",
    "    (\"system\", \"You are very good at explaining Hakius... You look at the hakius written in English and explain it in detail to Koreans. The explanation must be in Korean.You explain the theme of this poem, and you don't include unclear information in the explanation.\"),\n",
    "    (\"human\", \"{hakius}\"),\n",
    "])\n",
    "\n",
    "poem_explain_chain = poem_explain_prompt | chat\n",
    "\n",
    "final_chain = {\"hakius\" : poem_chain} | poem_explain_chain\n",
    "\n",
    "final_chain.invoke({\n",
    "    \"PL\":\"Python\"\n",
    "})"
   ]
  },
  {
   "cell_type": "code",
   "execution_count": null,
   "metadata": {},
   "outputs": [],
   "source": []
  }
 ],
 "metadata": {
  "kernelspec": {
   "display_name": "env",
   "language": "python",
   "name": "python3"
  },
  "language_info": {
   "codemirror_mode": {
    "name": "ipython",
    "version": 3
   },
   "file_extension": ".py",
   "mimetype": "text/x-python",
   "name": "python",
   "nbconvert_exporter": "python",
   "pygments_lexer": "ipython3",
   "version": "3.11.6"
  }
 },
 "nbformat": 4,
 "nbformat_minor": 2
}
