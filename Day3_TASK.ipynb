{
 "cells": [
  {
   "cell_type": "code",
   "execution_count": null,
   "metadata": {},
   "outputs": [
    {
     "ename": "NameError",
     "evalue": "name 'load_dotenv' is not defined",
     "output_type": "error",
     "traceback": [
      "\u001b[1;31m---------------------------------------------------------------------------\u001b[0m",
      "\u001b[1;31mNameError\u001b[0m                                 Traceback (most recent call last)",
      "Cell \u001b[1;32mIn[5], line 12\u001b[0m\n\u001b[0;32m      8\u001b[0m \u001b[38;5;28;01mfrom\u001b[39;00m \u001b[38;5;21;01mlangchain\u001b[39;00m\u001b[38;5;21;01m.\u001b[39;00m\u001b[38;5;21;01mprompts\u001b[39;00m\u001b[38;5;21;01m.\u001b[39;00m\u001b[38;5;21;01mfew_shot\u001b[39;00m \u001b[38;5;28;01mimport\u001b[39;00m FewShotChatMessagePromptTemplate\n\u001b[0;32m     10\u001b[0m \u001b[38;5;28;01mfrom\u001b[39;00m \u001b[38;5;21;01mlangchain\u001b[39;00m\u001b[38;5;21;01m.\u001b[39;00m\u001b[38;5;21;01mchains\u001b[39;00m \u001b[38;5;28;01mimport\u001b[39;00m LLMChain\n\u001b[1;32m---> 12\u001b[0m \u001b[43mload_dotenv\u001b[49m()\n\u001b[0;32m     14\u001b[0m llm \u001b[38;5;241m=\u001b[39m ChatOpenAI(\n\u001b[0;32m     15\u001b[0m     temperature\u001b[38;5;241m=\u001b[39m\u001b[38;5;241m0.1\u001b[39m,\n\u001b[0;32m     16\u001b[0m )\n\u001b[0;32m     18\u001b[0m memory \u001b[38;5;241m=\u001b[39m ConversationSummaryBufferMemory(\n\u001b[0;32m     19\u001b[0m     llm \u001b[38;5;241m=\u001b[39m llm,\n\u001b[0;32m     20\u001b[0m     max_token_limit\u001b[38;5;241m=\u001b[39m\u001b[38;5;241m100\u001b[39m,\n\u001b[0;32m     21\u001b[0m     return_messages\u001b[38;5;241m=\u001b[39m\u001b[38;5;28;01mTrue\u001b[39;00m,\n\u001b[0;32m     22\u001b[0m     memory_key\u001b[38;5;241m=\u001b[39m\u001b[38;5;124m\"\u001b[39m\u001b[38;5;124mhistory\u001b[39m\u001b[38;5;124m\"\u001b[39m,\n\u001b[0;32m     23\u001b[0m )\n",
      "\u001b[1;31mNameError\u001b[0m: name 'load_dotenv' is not defined"
     ]
    }
   ],
   "source": [
    "from langchain.chat_models import ChatOpenAI\n",
    "\n",
    "from langchain.memory import ConversationSummaryBufferMemory\n",
    "\n",
    "from langchain.prompts import ChatPromptTemplate, MessagesPlaceholder\n",
    "from langchain.schema.runnable import RunnablePassthrough\n",
    "\n",
    "from langchain.prompts.few_shot import FewShotChatMessagePromptTemplate\n",
    "\n",
    "from langchain.chains import LLMChain\n",
    "from dotenv import load_dotenv\n",
    "\n",
    "load_dotenv()\n",
    "\n",
    "llm = ChatOpenAI(\n",
    "    temperature=0.1,\n",
    ")\n",
    "\n",
    "memory = ConversationSummaryBufferMemory(\n",
    "    llm = llm,\n",
    "    max_token_limit=100,\n",
    "    return_messages=True,\n",
    "    memory_key=\"history\",\n",
    ")\n",
    "\n",
    "examples = [\n",
    "    {\n",
    "    \"movie\": \"탑건을 이모티콘으로 바꿔줘\",\n",
    "    \"answer\": \"🛩️👨‍✈️🔥\"\n",
    "    },\n",
    "    {\n",
    "    \"movie\": \"대부를 이모티콘으로 바꿔줘\",\n",
    "    \"answer\": \"👨‍👨‍👦🔫🍝\"\n",
    "    }\n",
    "]\n",
    "\n",
    "example_prompt = ChatPromptTemplate.from_messages([\n",
    "    (\"human\", \"{movie}\"),\n",
    "    (\"ai\", \"{answer}\")\n",
    "])\n",
    "\n",
    "prompt = FewShotChatMessagePromptTemplate(\n",
    "    example_prompt=example_prompt,\n",
    "    examples = examples\n",
    ")\n",
    "\n",
    "final_prompt = ChatPromptTemplate.from_messages([\n",
    "    prompt,\n",
    "    (\"system\", \"당신은 영화 전문가입니다. 상대가 말하는 영화 제목을 듣고 해당 영화에 등장하는 핵심적인 요소 중 세 가지만 추려서 알맞은 이모티콘으로 나타냅니다. 상대방이 이모티콘으로 바꿔달라는 요청을 할 경우 대답은 반드시 세 개의 이모티콘으로만 이루어져 있어야 합니다. 그렇지 않은 상대방의 일반적인 질문에는 일반적으로 응답합니다.\"),\n",
    "    MessagesPlaceholder(variable_name=\"history\",),\n",
    "    (\"human\", \"{question}\"),\n",
    "    \n",
    "])\n",
    "\n",
    "\n",
    "def load_memory(_):\n",
    "    \n",
    "    return memory.load_memory_variables({})[\"history\"]\n",
    "\n",
    "\n",
    "chain = RunnablePassthrough.assign(history=load_memory) | final_prompt | llm\n",
    "\n",
    "def invoke_chain(question):\n",
    "    print(\"Before Memory:\", memory.load_memory_variables({}))\n",
    "\n",
    "    result = chain.invoke({\"question\": question})\n",
    "    memory.save_context(\n",
    "        {\"input\": question},\n",
    "        {\"output\": result.content},\n",
    "    )\n",
    "\n",
    "    print(\"After Memory:\", memory.load_memory_variables({}))\n",
    "\n",
    "    print(result)"
   ]
  },
  {
   "cell_type": "code",
   "execution_count": 124,
   "metadata": {},
   "outputs": [
    {
     "name": "stdout",
     "output_type": "stream",
     "text": [
      "Before Memory: {'history': []}\n",
      "After Memory: {'history': [HumanMessage(content='태극기휘날리며를 이모티콘으로 바꿔줘'), AIMessage(content='🇰🇷⚽️🏆')]}\n",
      "content='🇰🇷⚽️🏆'\n"
     ]
    }
   ],
   "source": [
    "invoke_chain(\"태극기휘날리며를 이모티콘으로 바꿔줘\")"
   ]
  },
  {
   "cell_type": "code",
   "execution_count": 125,
   "metadata": {},
   "outputs": [
    {
     "name": "stdout",
     "output_type": "stream",
     "text": [
      "Before Memory: {'history': [HumanMessage(content='태극기휘날리며를 이모티콘으로 바꿔줘'), AIMessage(content='🇰🇷⚽️🏆')]}\n",
      "After Memory: {'history': [HumanMessage(content='태극기휘날리며를 이모티콘으로 바꿔줘'), AIMessage(content='🇰🇷⚽️🏆'), HumanMessage(content='독전을 이모티콘으로 바꿔줘'), AIMessage(content='🕵️\\u200d♂️💼🔪')]}\n",
      "content='🕵️\\u200d♂️💼🔪'\n"
     ]
    }
   ],
   "source": [
    "invoke_chain(\"독전을 이모티콘으로 바꿔줘\")"
   ]
  },
  {
   "cell_type": "code",
   "execution_count": 126,
   "metadata": {},
   "outputs": [
    {
     "name": "stdout",
     "output_type": "stream",
     "text": [
      "Before Memory: {'history': [HumanMessage(content='태극기휘날리며를 이모티콘으로 바꿔줘'), AIMessage(content='🇰🇷⚽️🏆'), HumanMessage(content='독전을 이모티콘으로 바꿔줘'), AIMessage(content='🕵️\\u200d♂️💼🔪')]}\n",
      "After Memory: {'history': [SystemMessage(content='The human asks the AI to change the movie \"Taegeukgi: The Brotherhood of War\" into emojis. The AI responds with 🇰🇷⚽️🏆. The human then requests the movie \"The Man from Nowhere\" to be turned into emojis. The AI replies with 🕵️\\u200d♂️💼🔪. Lastly, the human asks for a list of movies they have requested to be turned into emojis. The AI provides a list: 1. Top Gun: 🛩️👨\\u200d✈️🔥 2. The Godfather: 👨\\u200d👨\\u200d👦🔫🍝 3. Taegeukgi: 🇰🇷⚽️🏆 4. The Man from Nowhere: 🕵️\\u200d♂️💼🔪.')]}\n",
      "content='1. 탑건: 🛩️👨\\u200d✈️🔥\\n2. 대부: 👨\\u200d👨\\u200d👦🔫🍝\\n3. 태극기휘날리며: 🇰🇷⚽️🏆\\n4. 독전: 🕵️\\u200d♂️💼🔪'\n"
     ]
    }
   ],
   "source": [
    "invoke_chain(\"여태까지 어떤 영화를 이모티콘으로 바꿔달라고 요청했는지 리스트 형태로 보여줘\")"
   ]
  }
 ],
 "metadata": {
  "kernelspec": {
   "display_name": "env",
   "language": "python",
   "name": "python3"
  },
  "language_info": {
   "codemirror_mode": {
    "name": "ipython",
    "version": 3
   },
   "file_extension": ".py",
   "mimetype": "text/x-python",
   "name": "python",
   "nbconvert_exporter": "python",
   "pygments_lexer": "ipython3",
   "version": "3.11.6"
  }
 },
 "nbformat": 4,
 "nbformat_minor": 2
}
