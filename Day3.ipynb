{
 "cells": [
  {
   "cell_type": "code",
   "execution_count": null,
   "metadata": {},
   "outputs": [
    {
     "data": {
      "text/plain": [
       "{'history': \"Human: Hi I'm Kevin, I'm from Kevin\\nAI: Wow that is so cool!\"}"
      ]
     },
     "execution_count": 2,
     "metadata": {},
     "output_type": "execute_result"
    }
   ],
   "source": [
    "from langchain.chat_models import ChatOpenAI\n",
    "\n",
    "from langchain.memory import ConversationBufferMemory #대화 기록이 하나씩 쌓이는 메모리, 중복의 경우에도 계속 쌓이기 때문에 비효율적\n",
    "from langchain.memory import ConversationBufferWindowMemory #대화 기록이 쌓이는 메모리지만, 특정 부분(최근 부분)만 쌓임\n",
    "from langchain.memory import ConversationSummaryMemory #메시지를 그대로 저장하는 것이 아니라 요약해서 저장(LLM 활용)\n",
    "from langchain.memory import ConversationSummaryBufferMemory # !!!) 메모리에 최근 내용은 그대로 저장하나, 오래 지난 내용은 요약해서 저장함\n",
    "from langchain.memory import ConversationKGMemory # Entity추출(필요한 정보는 추출하여 저장)\n",
    "\n",
    "from langchain.chains import LLMChain\n",
    "\n",
    "from langchain.prompts import PromptTemplate, ChatPromptTemplate, MessagesPlaceholder\n",
    "\n",
    "from langchain.schema.runnable import RunnablePassthrough\n",
    "\n",
    "memory = ConversationBufferMemory()\n",
    "\n",
    "llm = ChatOpenAI(\n",
    "    temperature=0.1,\n",
    ")\n",
    "\n",
    "memory2 = ConversationBufferWindowMemory(\n",
    "    return_messages=True,\n",
    "    k=4    \n",
    ")\n",
    "\n",
    "memory3 = ConversationSummaryBufferMemory(\n",
    "    llm = llm,\n",
    "    max_token_limit=100,\n",
    "    return_messages=True, # 실제 메시지를 바꿔주는 속성\n",
    "    # memory_key=\"chat_history\" 프롬프트에 메모리 입력하는 속성\n",
    ")\n",
    "\n",
    "def add_message(input, output):\n",
    "    memory.save_context({\"input\": input}, {\"output\": output})\n",
    "\n",
    "\n",
    "# add_message(\"Hi I'm Kevin, I'm from Kevin\", \"Wow that is so cool!\")\n",
    "\n",
    "\n"
   ]
  },
  {
   "cell_type": "code",
   "execution_count": null,
   "metadata": {},
   "outputs": [],
   "source": [
    "prompt = ChatPromptTemplate.from_messages([\n",
    "    (\"system\", \"You are a helpful AI taking to a human\"),\n",
    "    MessagesPlaceholder(variable_name=\"history\"), # 메모리 클래스로 변환\n",
    "    (\"human\", \"{question}\"),\n",
    "])\n",
    "\n",
    "template = \"\"\"\n",
    "    You are a helpful AI talking to a human.\n",
    "\n",
    "    {history}\n",
    "    Human:{question}\n",
    "    AI:\n",
    "\"\"\"\n",
    "\n",
    "chain = LLMChain(\n",
    "    llm=llm,\n",
    "    memory=memory3,\n",
    "    prompt=prompt,\n",
    "    verbose=True\n",
    "\n",
    ")\n",
    "\n",
    "def load_memory():\n",
    "    return memory.load_memory_variables({})[\"history\"]\n",
    "\n",
    "chain2 = RunnablePassthrough.assign(history=load_memory) | prompt | llm\n",
    "\n",
    "\n",
    "def invoke_chain(question):\n",
    "\n",
    "    result = chain2.invoke({\"question\": question})\n",
    "\n",
    "    memory.save_context({\"input\": question}, {\"output\": result.content})\n",
    "\n",
    "    print(result)\n",
    "\n",
    "\n",
    "memory.load_memory_variables({})\n"
   ]
  }
 ],
 "metadata": {
  "kernelspec": {
   "display_name": "env",
   "language": "python",
   "name": "python3"
  },
  "language_info": {
   "codemirror_mode": {
    "name": "ipython",
    "version": 3
   },
   "file_extension": ".py",
   "mimetype": "text/x-python",
   "name": "python",
   "nbconvert_exporter": "python",
   "pygments_lexer": "ipython3",
   "version": "3.11.6"
  }
 },
 "nbformat": 4,
 "nbformat_minor": 2
}
